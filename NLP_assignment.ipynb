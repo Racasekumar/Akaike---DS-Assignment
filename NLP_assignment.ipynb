{
  "nbformat": 4,
  "nbformat_minor": 0,
  "metadata": {
    "colab": {
      "private_outputs": true,
      "provenance": []
    },
    "kernelspec": {
      "name": "python3",
      "display_name": "Python 3"
    },
    "language_info": {
      "name": "python"
    }
  },
  "cells": [
    {
      "cell_type": "markdown",
      "source": [
        "## NLP assignment"
      ],
      "metadata": {
        "id": "UbWngVom9xHS"
      }
    },
    {
      "cell_type": "code",
      "source": [
        "import os\n",
        "import spacy\n",
        "import PyPDF2\n",
        "import re\n",
        "import random\n",
        "\n",
        "# Load English language model\n",
        "nlp = spacy.load(\"en_core_web_sm\")\n",
        "\n",
        "...\n",
        "\n",
        "def generate_mcq_with_multiple_correct(question, correct_answers, other_options, num_options=4):\n",
        "  options = correct_answers + other_options\n",
        "  random.shuffle(options)\n",
        "\n",
        "  mcq = {\n",
        "    \"question\": question,\n",
        "    \"options\": options[:num_options],\n",
        "    \"correct_answers\": correct_answers\n",
        "  }\n",
        "\n",
        "  return mcq\n",
        "\n",
        "def generate_variety_question(doc):\n",
        "  sentence = random.choice(list(doc.sents))\n",
        "  blank_word = random.choice([token for token in sentence if not token.is_punct])\n",
        "\n",
        "  question_text = sentence.text.replace(blank_word.text, \"______\")\n",
        "  correct_answers = [blank_word.text]\n",
        "\n",
        "  other_options = [token.text for token in doc if token.is_alpha and token.text != correct_answers[0]]\n",
        "  num_correct_options = random.randint(1, 2) # Generate 1 or 2 correct options\n",
        "  correct_answers.extend(random.sample(other_options, num_correct_options))\n",
        "\n",
        "  num_other_options = min(4 - num_correct_options, len(other_options))\n",
        "  other_options = random.sample(other_options, num_other_options)\n",
        "\n",
        "  mcq = generate_mcq_with_multiple_correct(question_text, correct_answers, other_options, num_options=4)\n",
        "  return mcq\n",
        "\n",
        "def get_mca_questions(context: str, num_questions: int):\n",
        "  doc = nlp(context)\n",
        "\n",
        "  questions = [generate_variety_question(doc) for _ in range(num_questions)]\n",
        "\n",
        "  mca_questions = []\n",
        "  for i, question in enumerate(questions, start=1):\n",
        "    question_str = f\"Q{i}: {question['question']}\\n\"\n",
        "    options_str = \"\"\n",
        "    for j, option in enumerate(question['options']):\n",
        "      options_str += f\"{j + 1}. {option}\\n\"\n",
        "\n",
        "    correct_options_formatted = \" & \".join([f\"({chr(ord('a') + question['options'].index(ans))})\" if ans in question['options'] else f\"({ans})\" for ans in question['correct_answers']])\n",
        "\n",
        "    mca_question = f\"{question_str}{options_str}\\nCorrect Options : {correct_options_formatted}\\n\"\n",
        "    mca_questions.append(mca_question)\n",
        "\n",
        "  return mca_questions\n",
        "\n",
        "...\n",
        "\n",
        "\n",
        "\n",
        "if __name__ == \"__main__\":\n",
        "    folder_path = \"/content/Dataset\"\n",
        "    num_questions_per_file = 5  # Number of questions to generate per PDF file\n",
        "\n",
        "    mca_questions = process_pdf_folder(folder_path, num_questions_per_file)\n",
        "\n",
        "    for i, question in enumerate(mca_questions, start=1):\n",
        "        print(question)"
      ],
      "metadata": {
        "id": "5Hdo9O4v9GKa"
      },
      "execution_count": null,
      "outputs": []
    },
    {
      "cell_type": "code",
      "source": [],
      "metadata": {
        "id": "GVDWciqk9GIu"
      },
      "execution_count": null,
      "outputs": []
    },
    {
      "cell_type": "code",
      "source": [],
      "metadata": {
        "id": "jDRDTPLI9GF2"
      },
      "execution_count": null,
      "outputs": []
    }
  ]
}