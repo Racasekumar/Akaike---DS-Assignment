{
 "cells": [
  {
   "cell_type": "markdown",
   "id": "699f826b",
   "metadata": {},
   "source": [
    "#### Approaches used in the given Python code to generate multiple choice questions (MCQs) from text:"
   ]
  },
  {
   "cell_type": "markdown",
   "id": "4fdfd3db",
   "metadata": {},
   "source": [
    "Extract keywords from the text using spaCy: The spaCy library is used to extract keywords from the text. Keywords are important words in the text that can be used as answers to MCQs."
   ]
  },
  {
   "cell_type": "markdown",
   "id": "d5537c3d",
   "metadata": {},
   "source": [
    "Generate a variety of question formats: The code generates a variety of question formats, such as fill-in-the-blank and multiple choice questions with multiple correct answers. This makes the MCQs more challenging and engaging for the user."
   ]
  },
  {
   "cell_type": "markdown",
   "id": "127632de",
   "metadata": {},
   "source": [
    "Use plausible distractors: The code uses plausible distractors for the MCQs. Distractors are incorrect answer choices that should be similar to the correct answer. This makes the MCQs more challenging and less obvious."
   ]
  },
  {
   "cell_type": "markdown",
   "id": "9aafca00",
   "metadata": {},
   "source": [
    "# Load English language model\n",
    "nlp = spacy.load(\"en_core_web_sm\")\n"
   ]
  },
  {
   "cell_type": "markdown",
   "id": "94a1c116",
   "metadata": {},
   "source": [
    "#### This code chunk loads the English language model from spaCy. The language model is used to extract keywords from the text and generate MCQs."
   ]
  },
  {
   "cell_type": "code",
   "execution_count": null,
   "id": "ff47bd65",
   "metadata": {},
   "outputs": [],
   "source": []
  },
  {
   "cell_type": "raw",
   "id": "ffc2e4cf",
   "metadata": {},
   "source": [
    "# def generate_variety_question(doc):\n",
    "  sentence = random.choice(list(doc.sents))\n",
    "  blank_word = random.choice([token for token in sentence if not token.is_punct])\n",
    "\n",
    "  question_text = sentence.text.replace(blank_word.text, \"______\")\n",
    "  correct_answers = [blank_word.text]\n",
    "\n",
    "  other_options = [token.text for token in doc if token.is_alpha and token.text != correct_answers[0]]\n",
    "  num_correct_options = random.randint(1, 2) # Generate 1 or 2 correct options\n",
    "  correct_answers.extend(random.sample(other_options, num_correct_options))\n",
    "\n",
    "  num_other_options = min(4 - num_correct_options, len(other_options))\n",
    "  other_options = random.sample(other_options, num_other_options)\n",
    "\n",
    "  mcq = generate_mcq_with_multiple_correct(question_text, correct_answers, other_options, num_options=4)\n",
    "  return mcq\n"
   ]
  },
  {
   "cell_type": "code",
   "execution_count": null,
   "id": "bc1f0702",
   "metadata": {},
   "outputs": [],
   "source": []
  },
  {
   "cell_type": "markdown",
   "id": "d05ee3ba",
   "metadata": {},
   "source": [
    "#### This code chunk generates a variety of question formats, such as fill-in-the-blank and multiple choice questions with multiple correct answers. The code first chooses a random sentence from the text. Then, it chooses a random word from the sentence and replaces it with a blank. The blank word is the correct answer to the MCQ."
   ]
  },
  {
   "cell_type": "code",
   "execution_count": null,
   "id": "f15d14ca",
   "metadata": {},
   "outputs": [],
   "source": []
  },
  {
   "cell_type": "markdown",
   "id": "46a16d1c",
   "metadata": {},
   "source": [
    "#### Next, the code generates other options for the MCQ. The other options are words from the text that are similar to the correct answer. The code also ensures that there are at least two correct options for the MCQ."
   ]
  },
  {
   "cell_type": "code",
   "execution_count": null,
   "id": "130ad110",
   "metadata": {},
   "outputs": [],
   "source": []
  },
  {
   "cell_type": "markdown",
   "id": "42d0582a",
   "metadata": {},
   "source": [
    "#### Finally, the code returns the MCQ as a dictionary. The dictionary contains the question text, the options, and the correct answers."
   ]
  },
  {
   "cell_type": "code",
   "execution_count": null,
   "id": "262cdf71",
   "metadata": {},
   "outputs": [],
   "source": []
  },
  {
   "cell_type": "raw",
   "id": "f329be62",
   "metadata": {},
   "source": [
    "def get_mca_questions(context: str, num_questions: int):\n",
    "  doc = nlp(context)\n",
    "\n",
    "  questions = [generate_variety_question(doc) for _ in range(num_questions)]\n",
    "\n",
    "  mca_questions = []\n",
    "  for i, question in enumerate(questions, start=1):\n",
    "    question_str = f\"Q{i}: {question['question']}\\n\"\n",
    "    options_str = \"\"\n",
    "    for j, option in enumerate(question['options']):\n",
    "      options_str += f\"{j + 1}. {option}\\n\"\n",
    "\n",
    "    correct_options_formatted = \" & \".join([f\"({chr(ord('a') + question['options'].index(ans))})\" if ans in question['options'] else f\"({ans})\" for ans in question['correct_answers']])\n",
    "\n",
    "    mca_question = f\"{question_str}{options_str}\\nCorrect Options : {correct_options_formatted}\\n\"\n",
    "    mca_questions.append(mca_question)\n",
    "\n",
    "  return mca_questions\n"
   ]
  },
  {
   "cell_type": "code",
   "execution_count": null,
   "id": "f3d436a3",
   "metadata": {},
   "outputs": [],
   "source": []
  }
 ],
 "metadata": {
  "kernelspec": {
   "display_name": "Python 3",
   "language": "python",
   "name": "python3"
  },
  "language_info": {
   "codemirror_mode": {
    "name": "ipython",
    "version": 3
   },
   "file_extension": ".py",
   "mimetype": "text/x-python",
   "name": "python",
   "nbconvert_exporter": "python",
   "pygments_lexer": "ipython3",
   "version": "3.8.8"
  }
 },
 "nbformat": 4,
 "nbformat_minor": 5
}
